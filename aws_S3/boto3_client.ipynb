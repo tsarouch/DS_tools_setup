{
 "cells": [
  {
   "cell_type": "code",
   "execution_count": 2,
   "metadata": {
    "collapsed": false
   },
   "outputs": [],
   "source": [
    "import os\n",
    "import boto3\n",
    "from boto3.session import Session\n",
    "import botocore"
   ]
  },
  {
   "cell_type": "code",
   "execution_count": null,
   "metadata": {
    "collapsed": true
   },
   "outputs": [],
   "source": [
    "BUCKET = 'XXX'\n",
    "AWS_ACCESS_KEY_ID = 'XXX'\n",
    "AWS_SECRET_ACCESS_KEY = 'XXX'\n",
    "REGION_NAME = 'XXX'\n",
    "\n",
    "LOCAL_FULL_FILE_TMP = '/tmp/tmp_full'\n",
    "LOCAL_DIFF_FILE_TMP = '/tmp/tmp_diff'"
   ]
  },
  {
   "cell_type": "code",
   "execution_count": 3,
   "metadata": {
    "collapsed": true
   },
   "outputs": [],
   "source": [
    "def get_boto_session():\n",
    "    \"\"\" Returns a boto session based on the keys provided here\n",
    "    \"\"\"\n",
    "    session = Session(aws_access_key_id = AWS_ACCESS_KEY_ID,\n",
    "                      aws_secret_access_key = AWS_SECRET_ACCESS_KEY,\n",
    "                      region_name = REGION_NAME)\n",
    "    return session.resource('s3') "
   ]
  },
  {
   "cell_type": "code",
   "execution_count": null,
   "metadata": {
    "collapsed": true
   },
   "outputs": [],
   "source": [
    "def get_buckets(session):\n",
    "    \"\"\" Returns the buckets of a session\n",
    "    \"\"\"\n",
    "    buckets = []\n",
    "    for bucket in session.buckets.all():\n",
    "        buckets.append(bucket.name)\n",
    "    return buckets"
   ]
  },
  {
   "cell_type": "code",
   "execution_count": null,
   "metadata": {
    "collapsed": true
   },
   "outputs": [],
   "source": [
    "def get_session_s3_client():\n",
    "    \"\"\" Returns the client session\n",
    "    \"\"\"\n",
    "    session = Session(aws_access_key_id = AWS_ACCESS_KEY_ID,\n",
    "                      aws_secret_access_key = AWS_SECRET_ACCESS_KEY,\n",
    "                      region_name = REGION_NAME)\n",
    "    return session.client('s3')"
   ]
  },
  {
   "cell_type": "code",
   "execution_count": 4,
   "metadata": {
    "collapsed": true
   },
   "outputs": [],
   "source": [
    "def get_bucket(session, bucket_name):\n",
    "    \"\"\" Gets the bucket of a given session and give bucket name\n",
    "    \"\"\"\n",
    "    return session.Bucket(bucket_name)"
   ]
  },
  {
   "cell_type": "code",
   "execution_count": 5,
   "metadata": {
    "collapsed": true
   },
   "outputs": [],
   "source": [
    "def get_s3_file_df(s3_file, tmp_file ):\n",
    "    \"\"\" returns the DataFrame of the passed S3 (json) file\n",
    "    \"\"\"\n",
    "    s3_client.download_file(BUCKET, s3_file, tmp_file)\n",
    "    df = pd.read_json(tmp_file)\n",
    "    os.remove(tmp_file)\n",
    "    return df"
   ]
  },
  {
   "cell_type": "code",
   "execution_count": null,
   "metadata": {
    "collapsed": true
   },
   "outputs": [],
   "source": []
  }
 ],
 "metadata": {
  "kernelspec": {
   "display_name": "Python 2",
   "language": "python",
   "name": "python2"
  },
  "language_info": {
   "codemirror_mode": {
    "name": "ipython",
    "version": 2
   },
   "file_extension": ".py",
   "mimetype": "text/x-python",
   "name": "python",
   "nbconvert_exporter": "python",
   "pygments_lexer": "ipython2",
   "version": "2.7.10"
  }
 },
 "nbformat": 4,
 "nbformat_minor": 0
}
